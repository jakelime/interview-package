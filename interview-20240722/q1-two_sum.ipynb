{
 "cells": [
  {
   "cell_type": "markdown",
   "id": "38ea8ad4-a5cc-4e7f-b752-a1e87969ea21",
   "metadata": {},
   "source": [
    "# Two Sum\n",
    "\n",
    "Given an array of integers nums and an integer target, return indices of the two numbers such that they add up to target.\n",
    "\n",
    "You may assume that each input would have exactly one solution, and you may not use the same element twice.\n",
    "\n",
    "You can return the answer in any order.\n",
    "\n",
    "**Example 1:**\n",
    "```text\n",
    "Input: nums = [2,7,11,15], target = 9\n",
    "Output: [0,1]\n",
    "Explanation: Because nums[0] + nums[1] == 9, we return [0, 1].\n",
    "```\n",
    "\n",
    "**Example 2:**\n",
    "```text\n",
    "Input: nums = [3,2,4], target = 6\n",
    "Output: [1,2]\n",
    "```\n",
    "\n",
    "**Example 3:**\n",
    "```text\n",
    "Input: nums = [3,3], target = 6\n",
    "Output: [0,1]\n",
    "```\n",
    "\n",
    "\n",
    "**Constraints:**\n",
    "2 <= nums.length <= 104\n",
    "-109 <= nums[i] <= 109\n",
    "-109 <= target <= 109\n",
    "Only one valid answer exists.\n",
    " \n",
    "\n",
    "*Follow-up:*\n",
    "Can you come up with an algorithm that is less than O(n2) time complexity?"
   ]
  },
  {
   "cell_type": "markdown",
   "id": "72f962e1-b426-4291-a51d-7340339bdfb0",
   "metadata": {},
   "source": [
    "https://leetcode.com/problems/two-sum/"
   ]
  },
  {
   "cell_type": "code",
   "execution_count": 1,
   "id": "e0022726-946a-407b-ad04-3fb1af3c683f",
   "metadata": {},
   "outputs": [],
   "source": [
    "class Solution:\n",
    "    def twoSum(self, nums: list[int], target: int) -> list[int]:\n",
    "        pass"
   ]
  },
  {
   "cell_type": "code",
   "execution_count": 2,
   "id": "7ef7f2dd-4825-4abd-8e3f-475e1cd4fecb",
   "metadata": {},
   "outputs": [
    {
     "name": "stdout",
     "output_type": "stream",
     "text": [
      "Test1 FAILED\n",
      "Test2 FAILED\n",
      "Test3 FAILED\n"
     ]
    }
   ],
   "source": [
    "test = Solution()\n",
    "if (test.twoSum(nums=[2,7,11,15], target=9)) == [0,1]:\n",
    "    print(\"Test1 PASSED\")\n",
    "else:\n",
    "    print(\"Test1 FAILED\")\n",
    "\n",
    "\n",
    "if (test.twoSum(nums=[3,2,4], target=6)) == [1,2]:\n",
    "    print(\"Test2 PASSED\")\n",
    "else:\n",
    "    print(\"Test2 FAILED\")\n",
    "\n",
    "\n",
    "if (test.twoSum(nums=[3,3], target=6)) == [0,1]:\n",
    "    print(\"Test3 PASSED\")\n",
    "else:\n",
    "    print(\"Test3 FAILED\")"
   ]
  }
 ],
 "metadata": {
  "kernelspec": {
   "display_name": "Python 3 (ipykernel)",
   "language": "python",
   "name": "python3"
  },
  "language_info": {
   "codemirror_mode": {
    "name": "ipython",
    "version": 3
   },
   "file_extension": ".py",
   "mimetype": "text/x-python",
   "name": "python",
   "nbconvert_exporter": "python",
   "pygments_lexer": "ipython3",
   "version": "3.12.3"
  }
 },
 "nbformat": 4,
 "nbformat_minor": 5
}
