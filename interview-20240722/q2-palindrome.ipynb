{
 "cells": [
  {
   "cell_type": "markdown",
   "id": "6207a98a-611e-4c0b-97ea-a31e893d497e",
   "metadata": {},
   "source": [
    "# Valid Palindrome\n",
    "\n",
    "A phrase is a palindrome if, after converting all uppercase letters into lowercase letters and removing all non-alphanumeric characters, it reads the same forward and backward. Alphanumeric characters include letters and numbers.\n",
    "\n",
    "Given a string `s`, return `true` if it is a palindrome, or `false` otherwise.\n",
    " \n",
    "\n",
    "Example 1:\n",
    "```\n",
    "Input: s = \"A man, a plan, a canal: Panama\"\n",
    "Output: true\n",
    "Explanation: \"amanaplanacanalpanama\" is a palindrome.\n",
    "```\n",
    "\n",
    "Example 2:\n",
    "```\n",
    "Input: s = \"race a car\"\n",
    "Output: false\n",
    "Explanation: \"raceacar\" is not a palindrome.\n",
    "```\n",
    "\n",
    "Example 3:\n",
    "```\n",
    "Input: s = \" \"\n",
    "Output: true\n",
    "Explanation: s is an empty string \"\" after removing non-alphanumeric characters.\n",
    "Since an empty string reads the same forward and backward, it is a palindrome.\n",
    "```\n",
    "\n",
    "**Constraints:**\n",
    "- `1 <= s.length <= 2 * 105`\n",
    "- `s` consists only of printable ASCII characters.\n",
    "\n",
    "**Hint:**\n",
    "If you need regex, this is a method using regex to get all alphanumeric characters\n",
    "```python\n",
    "pattern = re.compile(r'[A-Za-z0-9]')\n",
    "matches = pattern.findall(input_string)\n",
    "clean_string = \"\".join(matches)\n",
    "```\n"
   ]
  },
  {
   "cell_type": "markdown",
   "id": "67aea2ea-c212-4ad5-865a-5c559682db4e",
   "metadata": {},
   "source": [
    "https://leetcode.com/problems/valid-palindrome/"
   ]
  },
  {
   "cell_type": "code",
   "execution_count": 1,
   "id": "46ad93ff-4e6f-4a10-a8d3-6d2a5371add4",
   "metadata": {},
   "outputs": [],
   "source": [
    "import re\n",
    "\n",
    "class Solution:\n",
    "    def isPalindrome(self, s: str) -> bool:\n",
    "        pass"
   ]
  },
  {
   "cell_type": "code",
   "execution_count": 2,
   "id": "cf4bd5b1-39f9-436e-be9d-7d3533b6edf4",
   "metadata": {},
   "outputs": [
    {
     "name": "stdout",
     "output_type": "stream",
     "text": [
      "Test1 FAILED\n",
      "Test2 FAILED\n",
      "Test3 FAILED\n"
     ]
    }
   ],
   "source": [
    "test = Solution()\n",
    "if (test.isPalindrome(\"A man, a plan, a canal: Panama\")) == True:\n",
    "    print(\"Test1 PASSED\")\n",
    "else:\n",
    "    print(\"Test1 FAILED\")\n",
    "\n",
    "\n",
    "if (test.isPalindrome(\"race a car\")) == False:\n",
    "    print(\"Test2 PASSED\")\n",
    "else:\n",
    "    print(\"Test2 FAILED\")\n",
    "\n",
    "\n",
    "if (test.isPalindrome(\" \")) == True:\n",
    "    print(\"Test3 PASSED\")\n",
    "else:\n",
    "    print(\"Test3 FAILED\")"
   ]
  }
 ],
 "metadata": {
  "kernelspec": {
   "display_name": "Python 3 (ipykernel)",
   "language": "python",
   "name": "python3"
  },
  "language_info": {
   "codemirror_mode": {
    "name": "ipython",
    "version": 3
   },
   "file_extension": ".py",
   "mimetype": "text/x-python",
   "name": "python",
   "nbconvert_exporter": "python",
   "pygments_lexer": "ipython3",
   "version": "3.12.3"
  }
 },
 "nbformat": 4,
 "nbformat_minor": 5
}
